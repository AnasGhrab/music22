{
 "cells": [
  {
   "cell_type": "markdown",
   "metadata": {},
   "source": [
    "# Scale"
   ]
  },
  {
   "cell_type": "code",
   "execution_count": 1,
   "metadata": {
    "collapsed": false
   },
   "outputs": [],
   "source": [
    "%matplotlib inline\n",
    "\n",
    "import numpy\n",
    "from music22 import core, diastema, scale, modalis\n",
    "\n",
    "from scipy.stats.kde import gaussian_kde\n",
    "from scipy.stats.mstats import mode\n",
    "\n",
    "import matplotlib.pyplot as plt"
   ]
  },
  {
   "cell_type": "code",
   "execution_count": 2,
   "metadata": {
    "collapsed": true
   },
   "outputs": [],
   "source": [
    "file_path = \"/Users/anas/AUDIO/Barraq/txt/P0.txt\"\n",
    "freqs = numpy.loadtxt(file_path)"
   ]
  },
  {
   "cell_type": "code",
   "execution_count": 3,
   "metadata": {
    "collapsed": false
   },
   "outputs": [],
   "source": [
    "barraq = modalis.melodia(freqs)"
   ]
  },
  {
   "cell_type": "code",
   "execution_count": 6,
   "metadata": {
    "collapsed": false
   },
   "outputs": [
    {
     "data": {
      "text/plain": [
       "[('0.00', '1/1', '+', '0.00'),\n",
       " ('-82.79', '6/5', '-', '3.60'),\n",
       " ('53.94', '9/8', '+', '2.78'),\n",
       " ('-45.36', '10/9', '-', '0.40'),\n",
       " ('-174.30', '3/2', '-', '1.79'),\n",
       " ('122.69', '4/3', '-', '2.25'),\n",
       " ('87.48', '9/8*12/11', '-', '1.46'),\n",
       " ('178.48', '3/2', '+', '2.39'),\n",
       " ('222.57', '3/2*10/9', '+', '0.72'),\n",
       " ('253.67', '3/2*6/5', '-', '1.60')]"
      ]
     },
     "execution_count": 6,
     "metadata": {},
     "output_type": "execute_result"
    }
   ],
   "source": [
    "barraq.scale"
   ]
  },
  {
   "cell_type": "code",
   "execution_count": 230,
   "metadata": {
    "collapsed": false
   },
   "outputs": [
    {
     "data": {
      "image/png": "[encoded data removed]",
      "text/plain": [
       "<matplotlib.figure.Figure at 0x10951f190>"
      ]
     },
     "metadata": {},
     "output_type": "display_data"
    }
   ],
   "source": [
    "plt.figure(figsize=(12,6))\n",
    "pdf_show(pdf,xpeaks,ypeaks)"
   ]
  },
  {
   "cell_type": "markdown",
   "metadata": {},
   "source": [
    "## Tests"
   ]
  },
  {
   "cell_type": "code",
   "execution_count": 91,
   "metadata": {
    "collapsed": false
   },
   "outputs": [],
   "source": [
    "import unittest\n",
    "\n",
    "class TestScale(unittest.TestCase):\n",
    "    def test_clean_list(self):\n",
    "        \"\"\"Is the list clean from zeros ? and NaNs (todo...)\"\"\"\n",
    "        L = numpy.array([0,23,53,0,32])\n",
    "        Lclear = numpy.array([23,53,32])\n",
    "        self.assertItemsEqual(Lclear,clean_list(L))\n",
    "\n",
    "    def test_pdf(self):\n",
    "        \"\"\"Testing the Propability Density Function\"\"\"\n",
    "        freqs = numpy.array([3,2,4])\n",
    "        #self.assertEqual(scipy.stats.kde.gaussian_kde,pdf(scipy.stats.kde.gaussian_kde))"
   ]
  },
  {
   "cell_type": "code",
   "execution_count": 76,
   "metadata": {
    "collapsed": false
   },
   "outputs": [
    {
     "name": "stderr",
     "output_type": "stream",
     "text": [
      ".\n",
      "----------------------------------------------------------------------\n",
      "Ran 1 test in 0.001s\n",
      "\n",
      "OK\n"
     ]
    },
    {
     "data": {
      "text/plain": [
       "<unittest.runner.TextTestResult run=1 errors=0 failures=0>"
      ]
     },
     "execution_count": 76,
     "metadata": {},
     "output_type": "execute_result"
    }
   ],
   "source": [
    "suite = unittest.TestLoader().loadTestsFromTestCase(TestScale)\n",
    "unittest.TextTestRunner().run(suite)"
   ]
  },
  {
   "cell_type": "code",
   "execution_count": null,
   "metadata": {
    "collapsed": true
   },
   "outputs": [],
   "source": []
  }
 ],
 "metadata": {
  "kernelspec": {
   "display_name": "Python 2",
   "language": "python",
   "name": "python2"
  },
  "language_info": {
   "codemirror_mode": {
    "name": "ipython",
    "version": 2
   },
   "file_extension": ".py",
   "mimetype": "text/x-python",
   "name": "python",
   "nbconvert_exporter": "python",
   "pygments_lexer": "ipython2",
   "version": "2.7.10"
  }
 },
 "nbformat": 4,
 "nbformat_minor": 0
}
