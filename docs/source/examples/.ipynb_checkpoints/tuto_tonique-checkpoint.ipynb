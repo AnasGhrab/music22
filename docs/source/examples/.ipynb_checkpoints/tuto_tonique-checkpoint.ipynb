{
 "cells": [
  {
   "cell_type": "markdown",
   "metadata": {},
   "source": [
    "# Quelle fréquence représenterait la tonique ?"
   ]
  },
  {
   "cell_type": "markdown",
   "metadata": {},
   "source": [
    "Si nous concevons qu'une note musicale peut être représentée par une fréquence (La = 440 ?), et puisque musicalement nous définissons la tonique comme une note d'appui avec laquelle se termine la mélodie, alors, cette note devrait être représentée par la dernière fréquence d'une liste mélodique.\n",
    "\n",
    "Cependant, la réalité musicale et acoustique font qu'il n'est pas aussi évident de déterminer une fréquence représentative de la tonique, pour les raisons suivantes :\n",
    "\n",
    "- La note n'est pas en réalité une fréquence, mais un ensemble de fréquences. Une meilleure représentation de la note serait une loi normale (https://fr.wikipedia.org/wiki/Loi_normale) avec une fréquence centrale et un écart type;\n",
    "- Si nous devons faire le d'une fréquence parmi les « dernières fréquences », comment déterminer celles-ci et sur quelle base faire ce choix ?\n",
    "- Dans un contexte de voix nue, les dernières fréquences ont tendance à être chantée plus basse qu'à l'intérieur du chant."
   ]
  },
  {
   "cell_type": "markdown",
   "metadata": {},
   "source": [
    "En utilisant music22, nous tenterons de mieux cerner le problème et nous verrons comment ajuster les paramètres liés à la détection de la tonique."
   ]
  },
  {
   "cell_type": "code",
   "execution_count": 1,
   "metadata": {
    "collapsed": false
   },
   "outputs": [],
   "source": [
    "import music22.modalis # Importation du module modalis"
   ]
  },
  {
   "cell_type": "code",
   "execution_count": 2,
   "metadata": {
    "collapsed": false
   },
   "outputs": [
    {
     "name": "stdout",
     "output_type": "stream",
     "text": [
      "Instance created with the txt file : P1.txt\n"
     ]
    }
   ],
   "source": [
    "path = '/Users/anas/AUDIO/Barraq/f0/P1.txt'\n",
    "barraq1 = music22.modalis.melodia(path) # Création d'une instance pour une seule mélodie"
   ]
  },
  {
   "cell_type": "markdown",
   "metadata": {},
   "source": [
    "Par défaut, l'attribut .tonique nous donne une fréquence représentative de la tonique :"
   ]
  },
  {
   "cell_type": "code",
   "execution_count": 3,
   "metadata": {
    "collapsed": false
   },
   "outputs": [
    {
     "data": {
      "text/plain": [
       "166.466"
      ]
     },
     "execution_count": 3,
     "metadata": {},
     "output_type": "execute_result"
    }
   ],
   "source": [
    "barraq1.tonique"
   ]
  },
  {
   "cell_type": "markdown",
   "metadata": {},
   "source": [
    "Avant de voir en détail les paramètres utilisés pour cette détection, observons la dernière fréquence de la liste :"
   ]
  },
  {
   "cell_type": "code",
   "execution_count": 4,
   "metadata": {
    "collapsed": false
   },
   "outputs": [
    {
     "data": {
      "text/plain": [
       "array([ 155.564,  157.372,  160.123, ...,  159.201,  158.284,  156.466])"
      ]
     },
     "execution_count": 4,
     "metadata": {},
     "output_type": "execute_result"
    }
   ],
   "source": [
    "barraq1.clean_freqs"
   ]
  },
  {
   "cell_type": "markdown",
   "metadata": {},
   "source": [
    "Nous voyons que la dernière fréquence que nous donne l'algorithme utilisé pour la détection des fréquences fondamentales est la fréquence 156.466 Hz, différente de la fréquence représentative analysée, 166.466 Hz."
   ]
  },
  {
   "cell_type": "markdown",
   "metadata": {},
   "source": [
    "## Les dernières fréquences d'une mélodie"
   ]
  },
  {
   "cell_type": "markdown",
   "metadata": {},
   "source": [
    "Il est évident qu'on ne peut pas définir les dernières fréquences d'une mélodie par un nombre fixe dl'éléments (*les x dernières fréquences*) car toutes les mélodies n'ont pas la même longeur. On utilisera alors un pourcentage de toutes les fréquences de la mélodie. Pour avoir le pourcentage des dernières fréquences utilisées, il faut faire appel à l'attribut .percent."
   ]
  },
  {
   "cell_type": "code",
   "execution_count": 5,
   "metadata": {
    "collapsed": false
   },
   "outputs": [
    {
     "data": {
      "text/plain": [
       "0.5"
      ]
     },
     "execution_count": 5,
     "metadata": {},
     "output_type": "execute_result"
    }
   ],
   "source": [
    "barraq1.percent"
   ]
  },
  {
   "cell_type": "markdown",
   "metadata": {},
   "source": [
    "Pour la détection de la fréquence, par défaut, music22 utilisant les 0.5% dernières fréquences. Varions ce pourcentage pour voir de quelle manière cela influe sur la fréquence détectée. On peut indiquer le pourcentage à utiliser lors de la création de l'instance :"
   ]
  },
  {
   "cell_type": "code",
   "execution_count": 6,
   "metadata": {
    "collapsed": false
   },
   "outputs": [
    {
     "data": {
      "text/plain": [
       "166.466"
      ]
     },
     "execution_count": 6,
     "metadata": {},
     "output_type": "execute_result"
    }
   ],
   "source": [
    "barraq1.get_tonique(percent=0.5)\n",
    "barraq1.tonique"
   ]
  },
  {
   "cell_type": "code",
   "execution_count": 7,
   "metadata": {
    "collapsed": false
   },
   "outputs": [
    {
     "data": {
      "text/plain": [
       "159.466"
      ]
     },
     "execution_count": 7,
     "metadata": {},
     "output_type": "execute_result"
    }
   ],
   "source": [
    "barraq1.get_tonique(percent=0.1)\n",
    "barraq1.tonique"
   ]
  },
  {
   "cell_type": "code",
   "execution_count": 8,
   "metadata": {
    "collapsed": false
   },
   "outputs": [
    {
     "data": {
      "text/plain": [
       "162.871"
      ]
     },
     "execution_count": 8,
     "metadata": {},
     "output_type": "execute_result"
    }
   ],
   "source": [
    "barraq1.get_tonique(percent=1)\n",
    "barraq1.tonique"
   ]
  },
  {
   "cell_type": "code",
   "execution_count": 9,
   "metadata": {
    "collapsed": false
   },
   "outputs": [
    {
     "data": {
      "text/plain": [
       "163.871"
      ]
     },
     "execution_count": 9,
     "metadata": {},
     "output_type": "execute_result"
    }
   ],
   "source": [
    "barraq1.get_tonique(percent=2)\n",
    "barraq1.tonique"
   ]
  },
  {
   "cell_type": "code",
   "execution_count": 10,
   "metadata": {
    "collapsed": false
   },
   "outputs": [
    {
     "data": {
      "text/plain": [
       "183.871"
      ]
     },
     "execution_count": 10,
     "metadata": {},
     "output_type": "execute_result"
    }
   ],
   "source": [
    "barraq1.get_tonique(percent=5)\n",
    "barraq1.tonique"
   ]
  },
  {
   "cell_type": "code",
   "execution_count": 11,
   "metadata": {
    "collapsed": false
   },
   "outputs": [
    {
     "data": {
      "text/plain": [
       "182.871"
      ]
     },
     "execution_count": 11,
     "metadata": {},
     "output_type": "execute_result"
    }
   ],
   "source": [
    "barraq1.get_tonique(percent=7)\n",
    "barraq1.tonique"
   ]
  },
  {
   "cell_type": "code",
   "execution_count": 12,
   "metadata": {
    "collapsed": false
   },
   "outputs": [
    {
     "data": {
      "text/plain": [
       "184.871"
      ]
     },
     "execution_count": 12,
     "metadata": {},
     "output_type": "execute_result"
    }
   ],
   "source": [
    "barraq1.get_tonique(percent=10)\n",
    "barraq1.tonique"
   ]
  },
  {
   "cell_type": "markdown",
   "metadata": {},
   "source": [
    "La fonction suivante nous permet d'obtenir ces résultats de manière plus automatisée :"
   ]
  },
  {
   "cell_type": "code",
   "execution_count": 13,
   "metadata": {
    "collapsed": false
   },
   "outputs": [],
   "source": [
    "pourcentages = [0.1,0.5,1,2,5,7,10]  # Liste des différents pourcentage à utiliser\n",
    "toniques = []  # Liste vide pour y placer les toniques détectées\n",
    "for pourcentage in pourcentages:\n",
    "    tonique = barraq1.get_tonique(pourcentage)\n",
    "    toniques.append(barraq1.tonique) # On rajoute la tonique détectée dans la liste"
   ]
  },
  {
   "cell_type": "code",
   "execution_count": 14,
   "metadata": {
    "collapsed": false
   },
   "outputs": [
    {
     "data": {
      "text/plain": [
       "[159.466, 166.466, 162.871, 163.871, 183.871, 182.871, 184.871]"
      ]
     },
     "execution_count": 14,
     "metadata": {},
     "output_type": "execute_result"
    }
   ],
   "source": [
    "toniques"
   ]
  },
  {
   "cell_type": "markdown",
   "metadata": {},
   "source": [
    "Nous voyons que dans cet exemple, jusqu'à 2% des dernières fréquences, la tonique détectée se trouve dans la zone entre 159.46 et 166.46 Hz. Avec les pourcentages 5, 7 et 10, elle devient dans la zone de 182 Hz, ce qui corresponderait à une autre note. Plusieurs exemples nous on amené à prendre la 0.5% comme valeur par défaut.\n",
    "\n",
    "Maintenant, on peut se poser la question, sur quelle base le choix de la tonique a-t-été effectué à partir de ces dernières fréquences ?"
   ]
  },
  {
   "cell_type": "markdown",
   "metadata": {},
   "source": [
    "## La fréquence tonique parmi les dernières fréquences"
   ]
  },
  {
   "cell_type": "markdown",
   "metadata": {},
   "source": [
    "Deux méthodes sont disponibles dans ``music22`` pour la détection de la tonique :\n",
    "\n",
    "- La fréquence tonique pourrait être la fréquence la plus présente parmi les dernières fréquences : le mode (en termes statistiques);\n",
    "- La fréquence pourrait être la fréquence la plus probable, obtenue par une Kernel Density Estimation (par défaut).\n",
    "\n",
    "On peut aussi indiquer la méthode à utiliser comme paramètre de la méthode .get_tonique()"
   ]
  },
  {
   "cell_type": "code",
   "execution_count": 15,
   "metadata": {
    "collapsed": false
   },
   "outputs": [],
   "source": [
    "barraq1.get_tonique(percent=0.5,method=\"mode\")"
   ]
  },
  {
   "cell_type": "code",
   "execution_count": 16,
   "metadata": {
    "collapsed": false
   },
   "outputs": [
    {
     "data": {
      "text/plain": [
       "167.696"
      ]
     },
     "execution_count": 16,
     "metadata": {},
     "output_type": "execute_result"
    }
   ],
   "source": [
    "barraq1.tonique"
   ]
  },
  {
   "cell_type": "code",
   "execution_count": 17,
   "metadata": {
    "collapsed": true
   },
   "outputs": [],
   "source": [
    "barraq1.get_tonique(percent=0.5,method=\"pdf\")"
   ]
  },
  {
   "cell_type": "code",
   "execution_count": 18,
   "metadata": {
    "collapsed": false
   },
   "outputs": [
    {
     "data": {
      "text/plain": [
       "166.466"
      ]
     },
     "execution_count": 18,
     "metadata": {},
     "output_type": "execute_result"
    }
   ],
   "source": [
    "barraq1.tonique"
   ]
  },
  {
   "cell_type": "markdown",
   "metadata": {},
   "source": [
    "Comparons les résultats avec différents pourcentages :"
   ]
  },
  {
   "cell_type": "code",
   "execution_count": 19,
   "metadata": {
    "collapsed": false
   },
   "outputs": [],
   "source": [
    "pourcentages = [0.1,0.5,1,2,5,7,10]\n",
    "toniques_mode = []\n",
    "toniques_pdf = []\n",
    "for pourcentage in pourcentages:\n",
    "    tonique_mode = barraq1.get_tonique(pourcentage,method=\"mode\")\n",
    "    toniques_mode.append(barraq1.tonique) # On rajoute dans la liste toniques_mode\n",
    "    tonique_pdf = barraq1.get_tonique(pourcentage,method=\"pdf\")\n",
    "    toniques_pdf.append(barraq1.tonique) # On rajoute dans la liste toniques_pdf"
   ]
  },
  {
   "cell_type": "code",
   "execution_count": 20,
   "metadata": {
    "collapsed": false
   },
   "outputs": [
    {
     "data": {
      "text/plain": [
       "[159.201, 167.696, 167.696, 163.866, 184.999, 184.999, 184.999]"
      ]
     },
     "execution_count": 20,
     "metadata": {},
     "output_type": "execute_result"
    }
   ],
   "source": [
    "toniques_mode"
   ]
  },
  {
   "cell_type": "code",
   "execution_count": 21,
   "metadata": {
    "collapsed": false
   },
   "outputs": [
    {
     "data": {
      "text/plain": [
       "[159.466, 166.466, 162.871, 163.871, 183.871, 182.871, 184.871]"
      ]
     },
     "execution_count": 21,
     "metadata": {},
     "output_type": "execute_result"
    }
   ],
   "source": [
    "toniques_pdf"
   ]
  },
  {
   "cell_type": "markdown",
   "metadata": {},
   "source": [
    "Nous voyons que les valeurs détectées par les deux méthodes sont relativement proches."
   ]
  }
 ],
 "metadata": {
  "kernelspec": {
   "display_name": "Python 2",
   "language": "python",
   "name": "python2"
  },
  "language_info": {
   "codemirror_mode": {
    "name": "ipython",
    "version": 2
   },
   "file_extension": ".py",
   "mimetype": "text/x-python",
   "name": "python",
   "nbconvert_exporter": "python",
   "pygments_lexer": "ipython2",
   "version": "2.7.10"
  }
 },
 "nbformat": 4,
 "nbformat_minor": 0
}
